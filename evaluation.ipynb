{
 "cells": [
  {
   "cell_type": "code",
   "execution_count": null,
   "metadata": {},
   "outputs": [],
   "source": [
    "pip install torch transformers pandas sacrebleu nltk"
   ]
  },
  {
   "cell_type": "code",
   "execution_count": null,
   "metadata": {},
   "outputs": [],
   "source": [
    "import pandas as pd\n",
    "from translator import NMTTranslator\n",
    "from nltk.translate.bleu_score import sentence_bleu, SmoothingFunction\n",
    "from nltk.translate.meteor_score import meteor_score\n",
    "import nltk\n",
    "nltk.download('punkt')\n",
    "nltk.download('wordnet')"
   ]
  },
  {
   "cell_type": "code",
   "execution_count": null,
   "metadata": {},
   "outputs": [],
   "source": [
    "class TranslationEvaluator:\n",
    "    def __init__(self):\n",
    "        self.smoothing = SmoothingFunction()\n",
    "    \n",
    "    def calculate_bleu(self, reference, candidate):\n",
    "        ref_tokens = nltk.word_tokenize(reference.lower())\n",
    "        cand_tokens = nltk.word_tokenize(candidate.lower())\n",
    "        score = sentence_bleu([ref_tokens], cand_tokens, smoothing_function=self.smoothing.method1)\n",
    "        return round(score * 100, 2)\n",
    "    \n",
    "    def calculate_meteor(self, reference, candidate):\n",
    "        score = meteor_score([reference], candidate)\n",
    "        return round(score * 100, 2)\n",
    "\n",
    "def run_evaluation(translator, test_cases):\n",
    "    evaluator = TranslationEvaluator()\n",
    "    results = []\n",
    "    for case in test_cases:\n",
    "        result = translator.translate(case['source'], case['src_lang'], case['tgt_lang'])\n",
    "        if 'error' not in result:\n",
    "            pred_text = result['translation']\n",
    "            bleu = evaluator.calculate_bleu(case['reference'], pred_text)\n",
    "            meteor = evaluator.calculate_meteor(case['reference'], pred_text)\n",
    "            results.append({\n",
    "                'source': case['source'],\n",
    "                'reference': case['reference'],\n",
    "                'prediction': pred_text,\n",
    "                'bleu': bleu,\n",
    "                'meteor': meteor\n",
    "            })\n",
    "    return pd.DataFrame(results)"
   ]
  },
  {
   "cell_type": "code",
   "execution_count": null,
   "metadata": {},
   "outputs": [],
   "source": [
    "nmt = NMTTranslator()\n",
    "\n",
    "evaluation_pairs = [\n",
    "    {'source': 'Hello, how are you?', 'reference': 'नमस्ते, आप कैसे हैं?', 'src_lang': 'en', 'tgt_lang': 'hi'},\n",
    "    {'source': 'Good morning', 'reference': 'सुप्रभात', 'src_lang': 'en', 'tgt_lang': 'hi'},\n",
    "    {'source': 'Thank you', 'reference': 'धन्यवाद', 'src_lang': 'en', 'tgt_lang': 'hi'},\n",
    "    {'source': 'नमस्ते', 'reference': 'Hello', 'src_lang': 'hi', 'tgt_lang': 'en'}\n",
    "]\n",
    "\n",
    "evaluation_df = run_evaluation(nmt, evaluation_pairs)\n",
    "print(evaluation_df)"
   ]
  }
 ],
 "metadata": {
  "kernelspec": {
   "display_name": "Python 3",
   "language": "python",
   "name": "python3"
  },
  "language_info": {
   "codemirror_mode": {
    "name": "ipython",
    "version": 3
   },
   "file_extension": ".py",
   "mimetype": "text/x-python",
   "name": "python",
   "nbconvert_exporter": "python",
   "pygments_lexer": "ipython3",
   "version": "3.9.7"
  }
 },
 "nbformat": 4,
 "nbformat_minor": 4
}
